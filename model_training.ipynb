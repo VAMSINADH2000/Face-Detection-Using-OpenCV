{
 "cells": [
  {
   "cell_type": "code",
   "execution_count": 1,
   "id": "73529634",
   "metadata": {},
   "outputs": [],
   "source": [
    "from tensorflow.compat.v1 import ConfigProto\n",
    "from tensorflow.compat.v1 import InteractiveSession\n",
    "\n",
    "config = ConfigProto()\n",
    "config.gpu_options.per_process_gpu_memory_fraction = 0.5\n",
    "config.gpu_options.allow_growth = True\n",
    "session = InteractiveSession(config=config)"
   ]
  },
  {
   "cell_type": "code",
   "execution_count": 2,
   "id": "946413d4",
   "metadata": {},
   "outputs": [],
   "source": [
    "# import the necessary packages\n",
    "from tensorflow.keras.preprocessing.image import ImageDataGenerator\n",
    "from tensorflow.keras.applications import MobileNetV2\n",
    "from tensorflow.keras.layers import AveragePooling2D,Dropout,Flatten,Dense,Input\n",
    "from tensorflow.keras.models import Model\n",
    "from tensorflow.keras.optimizers import Adam\n",
    "from tensorflow.keras.applications.mobilenet_v2 import preprocess_input\n",
    "from tensorflow.keras.preprocessing.image import img_to_array,load_img\n",
    "from tensorflow.keras.utils import to_categorical\n",
    "from sklearn.preprocessing import LabelBinarizer\n",
    "from sklearn.model_selection import train_test_split\n",
    "from sklearn.metrics import classification_report\n",
    "import matplotlib.pyplot as plt\n",
    "%matplotlib inline\n",
    "import numpy as np\n",
    "import os\n"
   ]
  },
  {
   "cell_type": "code",
   "execution_count": 6,
   "id": "d7c1c871",
   "metadata": {},
   "outputs": [],
   "source": [
    "\n",
    "DIRECTORY = \"dataset\"\n",
    "CATEGORIES = [\"with_mask\", \"without_mask\"]\n",
    "\n",
    "data = []\n",
    "labels = []\n",
    "#iterating through each image and storing their data and\n",
    "for category in CATEGORIES:\n",
    "    path = os.path.join(DIRECTORY, category)\n",
    "    for img in os.listdir(path):\n",
    "        img_path = os.path.join(path, img)\n",
    "        image = load_img(img_path, target_size=(224, 224))\n",
    "        image = img_to_array(image)\n",
    "        image = preprocess_input(image)\n",
    "        data.append(image)\n",
    "        labels.append(category)\n",
    "\n",
    "# one hot encoding\n",
    "lb = LabelBinarizer()\n",
    "labels = lb.fit_transform(labels)\n",
    "labels = to_categorical(labels)\n",
    "\n",
    "# converting them to numpy arrays\n",
    "data = np.array(data, dtype=\"float32\")\n",
    "labels = np.array(labels)\n"
   ]
  },
  {
   "cell_type": "code",
   "execution_count": 5,
   "id": "6c70e1c2",
   "metadata": {},
   "outputs": [],
   "source": [
    "#Splitting the data to train and test\n",
    "(trainX, testX, trainY, testY) = train_test_split(data, labels,\n",
    "test_size=0.20, stratify=labels, random_state=42)\n",
    "\n",
    "#intializing the epochs,batch size\n",
    "epochs = 20\n",
    "batch_size = 32\n",
    "\n",
    "#Data Augmentation\n",
    "datagen = ImageDataGenerator(\n",
    "    rotation_range=20,\n",
    "    zoom_range=0.15,\n",
    "    width_shift_range=0.2,\n",
    "    height_shift_range=0.2,\n",
    "    shear_range=0.15,\n",
    "    horizontal_flip=True,\n",
    "    fill_mode=\"nearest\")\n",
    "\n",
    "training_data = datagen.flow(trainX, trainY, batch_size=batch_size)\n",
    "#loadin the Mobilenet model\n",
    "mobilenet = MobileNetV2(weights=\"imagenet\", include_top=False,\n",
    "    input_tensor=Input(shape=(224, 224, 3)))\n",
    "\n",
    "#freezing the model\n",
    "for layer in mobilenet.layers:\n",
    "    layer.trainable = False\n",
    "\n",
    "#creating the model\n",
    "model = mobilenet.output\n",
    "model = AveragePooling2D(pool_size=(7, 7))(model)\n",
    "model = Flatten(name=\"flatten\")(model)\n",
    "model = Dense(128, activation=\"relu\")(model)\n",
    "model = Dropout(0.5)(model)\n",
    "model = Dense(2, activation=\"sigmoid\")(model)\n",
    "final_model = Model(inputs=mobilenet.input, outputs=model)\n",
    "opt = Adam(lr=1e-4, decay=1e-4 / epochs)\n",
    "\n",
    "#compiling the model\n",
    "final_model.compile(loss=\"binary_crossentropy\", optimizer=opt,\n",
    "metrics=[\"accuracy\"])\n",
    "\n",
    "#training the model\n",
    "history = final_model.fit(\n",
    "    training_data,\n",
    "    steps_per_epoch=len(trainX) // batch_size,\n",
    "    validation_data=(testX, testY),\n",
    "    validation_steps=len(testX) // batch_size,\n",
    "    epochs=epochs)\n"
   ]
  },
  {
   "cell_type": "code",
   "execution_count": null,
   "id": "34b31aa6",
   "metadata": {},
   "outputs": [],
   "source": [
    "\n",
    "predicted = model.predict(testX, batch_size=BS)\n",
    "\n",
    "predicted = np.argmax(predicted, axis=1)\n",
    "\n",
    "print(classification_report(testY.argmax(axis=1), predicted,target_names=lb.classes_))\n",
    "\n",
    "\n"
   ]
  },
  {
   "cell_type": "code",
   "execution_count": null,
   "id": "519804d3",
   "metadata": {},
   "outputs": [],
   "source": [
    "# saving the model \n",
    "final_model.save(\"face_mask_detector.model\", save_format=\"h5\")\n",
    "print(\"Model Saved\")"
   ]
  }
 ],
 "metadata": {
  "kernelspec": {
   "display_name": "Python 3",
   "language": "python",
   "name": "python3"
  },
  "language_info": {
   "codemirror_mode": {
    "name": "ipython",
    "version": 3
   },
   "file_extension": ".py",
   "mimetype": "text/x-python",
   "name": "python",
   "nbconvert_exporter": "python",
   "pygments_lexer": "ipython3",
   "version": "3.8.0"
  }
 },
 "nbformat": 4,
 "nbformat_minor": 5
}
